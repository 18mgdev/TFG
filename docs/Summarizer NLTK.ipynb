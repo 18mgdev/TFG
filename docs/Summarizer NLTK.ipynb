{
 "cells": [
  {
   "cell_type": "markdown",
   "metadata": {},
   "source": [
    "# Summarizer with Python and NLTK (Resumidor con Python y NLTK)"
   ]
  },
  {
   "cell_type": "code",
   "execution_count": 24,
   "metadata": {},
   "outputs": [],
   "source": [
    "# Importa los metodos a trabajar desde NLTK:\n",
    "\n",
    "# stopwords = palabras reservadas.\n",
    "from nltk.corpus import stopwords\n",
    "\n",
    "# word_tokenize = valorizador de palabras.\n",
    "# sent_tokenize = valorizador de oraciones.\n",
    "from nltk.tokenize import word_tokenize, sent_tokenize"
   ]
  },
  {
   "cell_type": "code",
   "execution_count": 25,
   "metadata": {},
   "outputs": [
    {
     "name": "stderr",
     "output_type": "stream",
     "text": [
      "[nltk_data] Downloading package stopwords to\n",
      "[nltk_data]     C:\\Users\\migue\\AppData\\Roaming\\nltk_data...\n",
      "[nltk_data]   Package stopwords is already up-to-date!\n",
      "[nltk_data] Downloading package punkt to\n",
      "[nltk_data]     C:\\Users\\migue\\AppData\\Roaming\\nltk_data...\n",
      "[nltk_data]   Package punkt is already up-to-date!\n"
     ]
    },
    {
     "data": {
      "text/plain": [
       "True"
      ]
     },
     "execution_count": 25,
     "metadata": {},
     "output_type": "execute_result"
    }
   ],
   "source": [
    "# Descarga de metodos debido a que stopwords y tokenize\n",
    "#   no se podían usar sin ellos.\n",
    "import nltk\n",
    "nltk.download('stopwords')\n",
    "nltk.download('punkt')"
   ]
  },
  {
   "cell_type": "code",
   "execution_count": 26,
   "metadata": {},
   "outputs": [],
   "source": [
    "# Se crean 2 arreglos y 1 variable:\n",
    "\n",
    "# arreglo 1) - SW - configura el método de entrada o idioma en el que se \n",
    "                    # van a trabajar las palabras en el metodo words de stopwords, en este caso, Español.\n",
    "SW = set(stopwords.words(\"spanish\"))\n",
    "\n",
    "# text para definir el texto a resumir.\n",
    "#text = \"\"\"El secreto de Edgar Allan Poe es la previa organización metódica de sus elementos a fin de producir efectos. Haciendo una lectura tamizada de la obra, se develan aquellos elementos patrones que, casualmente, emplea para su misión de expresar una porción del terreno de la melancolía y el horror diabólico. Poe escribe sus relatos teniendo en mente un simple efecto propenso a estallar en terror o pasión durante el momento final de la historia. Sostiene que en la totalidad de la composición no debe haber palabras que tiendan, directa o indirectamente, a deducir el efecto que el autor se ha propuesto. Lo asombroso es que un amante de la casualidad haya preparado sistemáticamente los elementos que se deben integrar en el relato, como si hubiese sido dotado del don para controlar el destino: azares de la expresión. Así es como sorprende, manipula el campo de lo inesperado, sobresalta al lector y en la apuesta final saca el as de la manga y gana la jugada astutamente. Los detalles funcionan como sostenes del relato hasta que la última oración narra el efecto preciso: el más planeado por el autor y el menos pensado para el lector. En Edgar Poe no es la inventiva lo que deslumbra sino la capacidad de incertidumbre de las situaciones, la aproximación a lo temido por desconocido, a la muerte. Maestro de la desesperación que parece hallar en la muerte el corte al sufrimiento de sus personajes, de su propio dolor. Tomando las palabras del poeta y dramaturgo David H. Lawrence: « Las mejores producciones de Poe no son relatos. Son algo más. Son descripciones del alma humana, retorciéndose en las convulsiones de la ruptura»\"\"\"\n",
    "\n",
    "text=\"\"\"El PP no suelta la presa sobre la esposa del presidente del Gobierno, Pedro Sánchez, por las reuniones que mantuvo con la matriz de Air Europa unos días antes de que la aerolínea fuera rescatada con dinero público en 2020. El líder popular, Alberto Núñez Feijóo, avisó este miércoles a Sánchez de que el PP impulsará una \"investigación específica\" sobre los vínculos Begoña Gómez con esa empresa y su supuesta intermediación para el rescate, una investigación que será \"parlamentaria\" pero que, amenazó Feijóo, puede terminar llegando a los tribunales si el presidente no ofrece explicaciones. En una intervención con un tono algo más sosegado que en las últimas semanas, Feijóo aseguró que Sánchez que \"se equivoca\" si cree que ha \"resuelto las dudas de lo que ha pasado en su Gobierno y en su partido\", una referencia muy poco velada a la conocida como trama Koldo, que se habría beneficiado de mordidas en la compra de mascarillas durante la pandemia. Al líder del PP también le genera dudas \"lo que ha pasado\" en la \"casa\" del presidente, en referencia a la esposa de Sánchez, a quien no llamó por su nombre. \"Se equivoca si cree que ha dado carpetazo\" a ese asunto, espetó Feijóo, que prometió que si el presidente \"vuelve a negarse a dar explicaciones\" impulsará \"una investigación específica sobre los asuntos que le afectan a su entorno más inmediato\". \"Parlamentaria seguro, y judicial también, si es necesaria\", espetó el líder del PP. En respuesta, Sánchez ironizó con la \"paciencia\" que, dijo, tiene que tener para responder semanalmente a las mismas preguntas, y exigió a Feijóo que \"plante cara a la corrupción\" en el PP y \"exija la dimisión a la señora [Isabel Díaz] Ayuso como presidenta de la Comunidad de Madrid\" por las informaciones sobre el fraude fiscal que habría cometido su pareja.\"\"\"\n",
    "# arreglo 2) - words - almacena el texto en el método word_tokenize para \n",
    "                        # previamente darle valor.\n",
    "words = word_tokenize(text)"
   ]
  },
  {
   "cell_type": "code",
   "execution_count": 27,
   "metadata": {},
   "outputs": [],
   "source": [
    "# Se crea un diccionario para crear una tabla de frecuencias de las palabras.\n",
    "freqTable = dict()\n",
    "\n",
    "# Con un for se recorre el texto y se almacena en la tabla.\n",
    "for word in words:\n",
    "    word = word.lower() # setea las palabras en minúscula y las almacena en word.\n",
    "    if word in SW: \n",
    "        continue # Si la palabra se encuentra en SW, continua con el ciclo.\n",
    "    if word in freqTable: # Si la palabra ya se encuentra en la tabla frecuencia,\n",
    "        freqTable[word] += 1 # Suma 1 a la posición donde se encuentra la palabra.\n",
    "    else:\n",
    "        freqTable[word] = 1 # Sino, la palabra en la TF va a ser igual a 1."
   ]
  },
  {
   "cell_type": "code",
   "execution_count": 28,
   "metadata": {},
   "outputs": [
    {
     "data": {
      "text/plain": [
       "{'pp': 5,\n",
       " 'suelta': 1,\n",
       " 'presa': 1,\n",
       " 'esposa': 2,\n",
       " 'presidente': 4,\n",
       " 'gobierno': 2,\n",
       " ',': 21,\n",
       " 'pedro': 1,\n",
       " 'sánchez': 5,\n",
       " 'reuniones': 1,\n",
       " 'mantuvo': 1,\n",
       " 'matriz': 1,\n",
       " 'air': 1,\n",
       " 'europa': 1,\n",
       " 'días': 1,\n",
       " 'aerolínea': 1,\n",
       " 'rescatada': 1,\n",
       " 'dinero': 1,\n",
       " 'público': 1,\n",
       " '2020': 1,\n",
       " '.': 7,\n",
       " 'líder': 3,\n",
       " 'popular': 1,\n",
       " 'alberto': 1,\n",
       " 'núñez': 1,\n",
       " 'feijóo': 5,\n",
       " 'avisó': 1,\n",
       " 'miércoles': 1,\n",
       " 'impulsará': 2,\n",
       " '``': 13,\n",
       " 'investigación': 3,\n",
       " 'específica': 2,\n",
       " \"''\": 13,\n",
       " 'vínculos': 1,\n",
       " 'begoña': 1,\n",
       " 'gómez': 1,\n",
       " 'empresa': 1,\n",
       " 'supuesta': 1,\n",
       " 'intermediación': 1,\n",
       " 'rescate': 1,\n",
       " 'parlamentaria': 2,\n",
       " 'amenazó': 1,\n",
       " 'puede': 1,\n",
       " 'terminar': 1,\n",
       " 'llegando': 1,\n",
       " 'tribunales': 1,\n",
       " 'si': 5,\n",
       " 'ofrece': 1,\n",
       " 'explicaciones': 2,\n",
       " 'intervención': 1,\n",
       " 'tono': 1,\n",
       " 'sosegado': 1,\n",
       " 'últimas': 1,\n",
       " 'semanas': 1,\n",
       " 'aseguró': 1,\n",
       " 'equivoca': 2,\n",
       " 'cree': 2,\n",
       " 'resuelto': 1,\n",
       " 'dudas': 2,\n",
       " 'pasado': 2,\n",
       " 'partido': 1,\n",
       " 'referencia': 2,\n",
       " 'velada': 1,\n",
       " 'conocida': 1,\n",
       " 'trama': 1,\n",
       " 'koldo': 1,\n",
       " 'beneficiado': 1,\n",
       " 'mordidas': 1,\n",
       " 'compra': 1,\n",
       " 'mascarillas': 1,\n",
       " 'pandemia': 1,\n",
       " 'genera': 1,\n",
       " 'casa': 1,\n",
       " 'llamó': 1,\n",
       " 'nombre': 1,\n",
       " 'dado': 1,\n",
       " 'carpetazo': 1,\n",
       " 'asunto': 1,\n",
       " 'espetó': 2,\n",
       " 'prometió': 1,\n",
       " 'vuelve': 1,\n",
       " 'negarse': 1,\n",
       " 'dar': 1,\n",
       " 'asuntos': 1,\n",
       " 'afectan': 1,\n",
       " 'entorno': 1,\n",
       " 'inmediato': 1,\n",
       " 'seguro': 1,\n",
       " 'judicial': 1,\n",
       " 'necesaria': 1,\n",
       " 'respuesta': 1,\n",
       " 'ironizó': 1,\n",
       " 'paciencia': 1,\n",
       " 'dijo': 1,\n",
       " 'tener': 1,\n",
       " 'responder': 1,\n",
       " 'semanalmente': 1,\n",
       " 'mismas': 1,\n",
       " 'preguntas': 1,\n",
       " 'exigió': 1,\n",
       " 'plante': 1,\n",
       " 'cara': 1,\n",
       " 'corrupción': 1,\n",
       " 'exija': 1,\n",
       " 'dimisión': 1,\n",
       " 'señora': 1,\n",
       " '[': 1,\n",
       " 'isabel': 1,\n",
       " 'díaz': 1,\n",
       " ']': 1,\n",
       " 'ayuso': 1,\n",
       " 'presidenta': 1,\n",
       " 'comunidad': 1,\n",
       " 'madrid': 1,\n",
       " 'informaciones': 1,\n",
       " 'fraude': 1,\n",
       " 'fiscal': 1,\n",
       " 'cometido': 1,\n",
       " 'pareja': 1}"
      ]
     },
     "execution_count": 28,
     "metadata": {},
     "output_type": "execute_result"
    }
   ],
   "source": [
    "#Muestra la tabla de frecuencias de cada palabra.\n",
    "freqTable"
   ]
  },
  {
   "cell_type": "code",
   "execution_count": 29,
   "metadata": {},
   "outputs": [],
   "source": [
    "# Crea una variable y un diccionario.\n",
    "\n",
    "# Variable sentences para almacenar las oraciones a valorizar del texto.\n",
    "sentences = sent_tokenize(text)\n",
    "\n",
    "# Diccionario sentenceValue para almacenar los valores de las oraciones.\n",
    "sentenceValue = dict()"
   ]
  },
  {
   "cell_type": "code",
   "execution_count": 30,
   "metadata": {},
   "outputs": [],
   "source": [
    "#Se crea un ciclo for para recorrer las oraciones que se encuentran en el texto.\n",
    "for sentence in sentences:\n",
    "    # Se crea un segundo for para recorrer los items que se encuentran el la TF.\n",
    "    for word, freq in freqTable.items():\n",
    "        if word in sentence.lower(): # Si la palabra se encuentra en las oraciones (en minuscula)\n",
    "            if sentence in sentenceValue: # Y si la oración está en el diccionario de las oraciones a valorizar.\n",
    "                sentenceValue[sentence] += freq # Entonces sume 1 al número de frecuencia en la posición de la oración del sV.\n",
    "            else:\n",
    "                sentenceValue[sentence] = freq # Sino, que el valor de la posición de la oración sea igual a la frecuencia."
   ]
  },
  {
   "cell_type": "code",
   "execution_count": 31,
   "metadata": {},
   "outputs": [
    {
     "data": {
      "text/plain": [
       "{'El PP no suelta la presa sobre la esposa del presidente del Gobierno, Pedro Sánchez, por las reuniones que mantuvo con la matriz de Air Europa unos días antes de que la aerolínea fuera rescatada con dinero público en 2020.': 65,\n",
       " 'El líder popular, Alberto Núñez Feijóo, avisó este miércoles a Sánchez de que el PP impulsará una \"investigación específica\" sobre los vínculos Begoña Gómez con esa empresa y su supuesta intermediación para el rescate, una investigación que será \"parlamentaria\" pero que, amenazó Feijóo, puede terminar llegando a los tribunales si el presidente no ofrece explicaciones.': 85,\n",
       " 'En una intervención con un tono algo más sosegado que en las últimas semanas, Feijóo aseguró que Sánchez que \"se equivoca\" si cree que ha \"resuelto las dudas de lo que ha pasado en su Gobierno y en su partido\", una referencia muy poco velada a la conocida como trama Koldo, que se habría beneficiado de mordidas en la compra de mascarillas durante la pandemia.': 72,\n",
       " 'Al líder del PP también le genera dudas \"lo que ha pasado\" en la \"casa\" del presidente, en referencia a la esposa de Sánchez, a quien no llamó por su nombre.': 62,\n",
       " '\"Se equivoca si cree que ha dado carpetazo\" a ese asunto, espetó Feijóo, que prometió que si el presidente \"vuelve a negarse a dar explicaciones\" impulsará \"una investigación específica sobre los asuntos que le afectan a su entorno más inmediato\".': 68,\n",
       " '\"Parlamentaria seguro, y judicial también, si es necesaria\", espetó el líder del PP.': 48,\n",
       " 'En respuesta, Sánchez ironizó con la \"paciencia\" que, dijo, tiene que tener para responder semanalmente a las mismas preguntas, y exigió a Feijóo que \"plante cara a la corrupción\" en el PP y \"exija la dimisión a la señora [Isabel Díaz] Ayuso como presidenta de la Comunidad de Madrid\" por las informaciones sobre el fraude fiscal que habría cometido su pareja.': 77}"
      ]
     },
     "execution_count": 31,
     "metadata": {},
     "output_type": "execute_result"
    }
   ],
   "source": [
    "#Muestra las oraciones ya valorizadas con su respectivo puntaje.\n",
    "sentenceValue"
   ]
  },
  {
   "cell_type": "code",
   "execution_count": 32,
   "metadata": {},
   "outputs": [],
   "source": [
    "# Se crea una variable donde se almacena la suma de los valores.\n",
    "sumValues = 0\n",
    "\n",
    "# Se crea un ciclo for para evaluar la oración dentro del Diccionario de las oraciones valorizadas.\n",
    "for sentence in sentenceValue:\n",
    "    sumValues += sentenceValue[sentence] # Se suma 1 al valor de la Oración en su respectiva posición\n",
    "    \n",
    "# Valor promedio de una oración desde un texto original\n",
    "average = int(sumValues/ len(sentenceValue)) # Divide la suma de valores en la total de oraciones valorizadas."
   ]
  },
  {
   "cell_type": "code",
   "execution_count": 33,
   "metadata": {},
   "outputs": [],
   "source": [
    "# Se crea una variable para almacenar el resumen a imprimir.\n",
    "summary = ''\n",
    "\n",
    "# Se crea un for para recorrer las oraciones almacenadas\n",
    "for sentence in sentences:\n",
    "    \n",
    "    #Donde si, la oración está las oraciones Valorizadas y la posición de la oración es mayor que 1.2 veces el promedio:\n",
    "    if (sentence in sentenceValue) and (sentenceValue[sentence] > (1.2 * average)):\n",
    "        \n",
    "        # El resumen va a agregar un espacio más la oración que aprobó la condición.\n",
    "        summary += \" \" + sentence "
   ]
  },
  {
   "cell_type": "code",
   "execution_count": 34,
   "metadata": {},
   "outputs": [
    {
     "name": "stdout",
     "output_type": "stream",
     "text": [
      " El líder popular, Alberto Núñez Feijóo, avisó este miércoles a Sánchez de que el PP impulsará una \"investigación específica\" sobre los vínculos Begoña Gómez con esa empresa y su supuesta intermediación para el rescate, una investigación que será \"parlamentaria\" pero que, amenazó Feijóo, puede terminar llegando a los tribunales si el presidente no ofrece explicaciones.\n"
     ]
    }
   ],
   "source": [
    "# Se imprime el resumen.\n",
    "print(summary)"
   ]
  },
  {
   "cell_type": "code",
   "execution_count": null,
   "metadata": {},
   "outputs": [],
   "source": []
  }
 ],
 "metadata": {
  "kernelspec": {
   "display_name": "Python 3 (ipykernel)",
   "language": "python",
   "name": "python3"
  },
  "language_info": {
   "codemirror_mode": {
    "name": "ipython",
    "version": 3
   },
   "file_extension": ".py",
   "mimetype": "text/x-python",
   "name": "python",
   "nbconvert_exporter": "python",
   "pygments_lexer": "ipython3",
   "version": "3.11.4"
  }
 },
 "nbformat": 4,
 "nbformat_minor": 2
}
